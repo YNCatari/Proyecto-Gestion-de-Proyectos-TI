{
 "cells": [
  {
   "cell_type": "markdown",
   "metadata": {},
   "source": [
    "<img src=\"Portada.png\"/>\n",
    "\n",
    "<h2>Objetivo:</h2>\n",
    "<p>En la siguiente libreta (<i>Jupyter Notebook</i>) se hara una estimacion del Nivel de Obecidad \n",
    "    de una persona basado en sus hábitos alimenticios y su condición física.</p>\n",
    "<h2>Metodo Utilizado:</h2>\n",
    "- Regresion\n",
    "<h2>Justificacion:</h2>\n",
    "<p>Obviando el objetivo del PIA (aprender a manejar Notebooks y librerias sobre Machine Learning), \n",
    "creemos que el aprendizaje sobre el metodo utilizado es una base importante para comenzar \n",
    "en el Machine Learning y sacar conclusiones sobre un Data Set.\n",
    "</p>\n",
    "\n",
    "<h2>Data Set:</h2>\n",
    "<p>A continuacion se mostrara los atributos de cada persona.</p>\n",
    "<p>Para realizar la manipulacion de todos los atributos se convitieron \n",
    "    los que tenian sus datos en tipo <i>Texto</i> a <i>Enteros</i> y tambien se mostrara \n",
    "    la conversion realizada.\n",
    "</p>\n",
    "<h3>Atributos:</h3>\n",
    "<ul>\n",
    "    <li>Gender - int(Famele = 0, Male = 1)</li>\n",
    "    <li>Age - int</li>\n",
    "    <li>Height - float</li>\n",
    "    <li>Weight - float</li>\n",
    "    <li>family_history_with_overweight - int(yes = 1, no = 0)</li>\n",
    "    <li>FAVC - int(yes = 1, no = 0)</li>\n",
    "    <li>FCVC - float</li>\n",
    "    <li>NCP - float</li>\n",
    "    <li>CAEC - int(Always = 3, Frequently = 2, Sometimes = 1, no = 0)</li>\n",
    "    <li>SMOKE - int(yes = 1, no = 0)</li>\n",
    "    <li>CH2O - float</li>\n",
    "    <li>SCC\t- int(yes = 1, no = 0)</li>\n",
    "    <li>FAF\t- float</li>\n",
    "    <li>TUE\t- float</li>\n",
    "    <li>CALC - int(Always = 3, Frequently = 2, Sometimes = 1, no = 0)</li>\n",
    "    <li>MTRANS - (Walking = 4, Bike = 3, Public_Transportation = 2, Motorbike = 1, Automobile = 0)</li>\n",
    "    <li>NObesity  - (Insufficient_Weight = -1, Normal_Weight = 0, Overweight_Level_I = 1, Overweight_Level_II = 2, \n",
    "        Obesity_Type_I = 3, Obesity_Type_II = 4, Obesity_Type_III = 5)</li>\n",
    "</ul>\n",
    "<h4>Definicion atributos abreviados:</h4>\n",
    "<p>Los atributos relacionados con los hábitos alimentarios son:</p>\n",
    "<ul>\n",
    "    <li>Consumo frecuente de alimentos ricos en calorías (FAVC)</li>\n",
    "    <li>Frecuencia de consumo de hortalizas (FCVC)</li>\n",
    "    <li>Número de comidas principales (NCP)</li>\n",
    "    <li>Consumo de alimentos entre comidas (CAEC)</li>\n",
    "    <li>Consumo de agua diario (CH20)</li>\n",
    "    <li>Consumo de alcohol (CALC)</li>\n",
    "</ul>\n",
    "<p>Los atributos relacionados con la condición física son:</p>\n",
    "<ul>\n",
    "    <li>Monitoreo de consumo de calorías (SCC)</li>\n",
    "    <li>Frecuencia de actividad física (FAF)</li>\n",
    "    <li>Tiempo usando dispositivos tecnológicos (TUE)</li>\n",
    "    <li>Transporte utilizado (MTRANS)</li>\n",
    "</ul>"
   ]
  },
  {
   "cell_type": "markdown",
   "metadata": {},
   "source": [
    "<h2>Librerias:</h2>\n",
    "<p>En ese caso usaremos la siguientes librerias, siendo la seccion de arriba para el modelo de regresion y la de abajo para imprimir tablas en consola de manera sencilla.</p>"
   ]
  },
  {
   "cell_type": "code",
   "execution_count": 1,
   "metadata": {},
   "outputs": [],
   "source": [
    "import pandas as pd\n",
    "import numpy as np\n",
    "import sklearn\n",
    "from sklearn import linear_model\n",
    "\n",
    "from tabulate import tabulate"
   ]
  },
  {
   "cell_type": "markdown",
   "metadata": {},
   "source": [
    "<h2>Codigo:</h2>"
   ]
  },
  {
   "cell_type": "markdown",
   "metadata": {},
   "source": [
    "<p>Se carga el <i>Data Set</i> e imprimos los primeros elementos en la lista para comprobar que hayan cargado correctamente.</p>\n",
    "<p>Las <i>filas</i> muestran el conjunto de atributos de cada persona, siendo estos cada <i>columna</i>.</p>"
   ]
  },
  {
   "cell_type": "code",
   "execution_count": 2,
   "metadata": {},
   "outputs": [
    {
     "data": {
      "text/html": [
       "<div>\n",
       "<style scoped>\n",
       "    .dataframe tbody tr th:only-of-type {\n",
       "        vertical-align: middle;\n",
       "    }\n",
       "\n",
       "    .dataframe tbody tr th {\n",
       "        vertical-align: top;\n",
       "    }\n",
       "\n",
       "    .dataframe thead th {\n",
       "        text-align: right;\n",
       "    }\n",
       "</style>\n",
       "<table border=\"1\" class=\"dataframe\">\n",
       "  <thead>\n",
       "    <tr style=\"text-align: right;\">\n",
       "      <th></th>\n",
       "      <th>Gender</th>\n",
       "      <th>Age</th>\n",
       "      <th>Height</th>\n",
       "      <th>Weight</th>\n",
       "      <th>family_history_with_overweight</th>\n",
       "      <th>FAVC</th>\n",
       "      <th>FCVC</th>\n",
       "      <th>NCP</th>\n",
       "      <th>CAEC</th>\n",
       "      <th>SMOKE</th>\n",
       "      <th>CH2O</th>\n",
       "      <th>SCC</th>\n",
       "      <th>FAF</th>\n",
       "      <th>TUE</th>\n",
       "      <th>CALC</th>\n",
       "      <th>MTRANS</th>\n",
       "      <th>NObesity</th>\n",
       "    </tr>\n",
       "  </thead>\n",
       "  <tbody>\n",
       "    <tr>\n",
       "      <th>0</th>\n",
       "      <td>0</td>\n",
       "      <td>21.0</td>\n",
       "      <td>1.62</td>\n",
       "      <td>64.0</td>\n",
       "      <td>1</td>\n",
       "      <td>0</td>\n",
       "      <td>2.0</td>\n",
       "      <td>3.0</td>\n",
       "      <td>1</td>\n",
       "      <td>0</td>\n",
       "      <td>2.0</td>\n",
       "      <td>0</td>\n",
       "      <td>0.0</td>\n",
       "      <td>1.0</td>\n",
       "      <td>0</td>\n",
       "      <td>2</td>\n",
       "      <td>0</td>\n",
       "    </tr>\n",
       "    <tr>\n",
       "      <th>1</th>\n",
       "      <td>0</td>\n",
       "      <td>21.0</td>\n",
       "      <td>1.52</td>\n",
       "      <td>56.0</td>\n",
       "      <td>1</td>\n",
       "      <td>0</td>\n",
       "      <td>3.0</td>\n",
       "      <td>3.0</td>\n",
       "      <td>1</td>\n",
       "      <td>1</td>\n",
       "      <td>3.0</td>\n",
       "      <td>1</td>\n",
       "      <td>3.0</td>\n",
       "      <td>0.0</td>\n",
       "      <td>1</td>\n",
       "      <td>2</td>\n",
       "      <td>0</td>\n",
       "    </tr>\n",
       "    <tr>\n",
       "      <th>2</th>\n",
       "      <td>1</td>\n",
       "      <td>23.0</td>\n",
       "      <td>1.80</td>\n",
       "      <td>77.0</td>\n",
       "      <td>1</td>\n",
       "      <td>0</td>\n",
       "      <td>2.0</td>\n",
       "      <td>3.0</td>\n",
       "      <td>1</td>\n",
       "      <td>0</td>\n",
       "      <td>2.0</td>\n",
       "      <td>0</td>\n",
       "      <td>2.0</td>\n",
       "      <td>1.0</td>\n",
       "      <td>2</td>\n",
       "      <td>2</td>\n",
       "      <td>0</td>\n",
       "    </tr>\n",
       "    <tr>\n",
       "      <th>3</th>\n",
       "      <td>1</td>\n",
       "      <td>27.0</td>\n",
       "      <td>1.80</td>\n",
       "      <td>87.0</td>\n",
       "      <td>0</td>\n",
       "      <td>0</td>\n",
       "      <td>3.0</td>\n",
       "      <td>3.0</td>\n",
       "      <td>1</td>\n",
       "      <td>0</td>\n",
       "      <td>2.0</td>\n",
       "      <td>0</td>\n",
       "      <td>2.0</td>\n",
       "      <td>0.0</td>\n",
       "      <td>2</td>\n",
       "      <td>4</td>\n",
       "      <td>1</td>\n",
       "    </tr>\n",
       "    <tr>\n",
       "      <th>4</th>\n",
       "      <td>1</td>\n",
       "      <td>22.0</td>\n",
       "      <td>1.78</td>\n",
       "      <td>89.8</td>\n",
       "      <td>0</td>\n",
       "      <td>0</td>\n",
       "      <td>2.0</td>\n",
       "      <td>1.0</td>\n",
       "      <td>1</td>\n",
       "      <td>0</td>\n",
       "      <td>2.0</td>\n",
       "      <td>0</td>\n",
       "      <td>0.0</td>\n",
       "      <td>0.0</td>\n",
       "      <td>1</td>\n",
       "      <td>2</td>\n",
       "      <td>2</td>\n",
       "    </tr>\n",
       "  </tbody>\n",
       "</table>\n",
       "</div>"
      ],
      "text/plain": [
       "   Gender   Age  Height  Weight  family_history_with_overweight  FAVC  FCVC  \\\n",
       "0       0  21.0    1.62    64.0                               1     0   2.0   \n",
       "1       0  21.0    1.52    56.0                               1     0   3.0   \n",
       "2       1  23.0    1.80    77.0                               1     0   2.0   \n",
       "3       1  27.0    1.80    87.0                               0     0   3.0   \n",
       "4       1  22.0    1.78    89.8                               0     0   2.0   \n",
       "\n",
       "   NCP  CAEC  SMOKE  CH2O  SCC  FAF  TUE  CALC  MTRANS  NObesity  \n",
       "0  3.0     1      0   2.0    0  0.0  1.0     0       2         0  \n",
       "1  3.0     1      1   3.0    1  3.0  0.0     1       2         0  \n",
       "2  3.0     1      0   2.0    0  2.0  1.0     2       2         0  \n",
       "3  3.0     1      0   2.0    0  2.0  0.0     2       4         1  \n",
       "4  1.0     1      0   2.0    0  0.0  0.0     1       2         2  "
      ]
     },
     "execution_count": 2,
     "metadata": {},
     "output_type": "execute_result"
    }
   ],
   "source": [
    "data = pd.read_csv(\"ObesityDataSet.csv\", sep=\",\")\n",
    "\n",
    "data.head()"
   ]
  },
  {
   "cell_type": "markdown",
   "metadata": {},
   "source": [
    "<p>Escogemos la variable a predecir, en este caso sera el Nivel de Obesidad (NObesity) y a cada <i>fila</i> del <i>Data Set</i> le quitamos dicha <i>columna</i>.</p>\n",
    "<p>En la variable \"<i>x</i>\" guardamos las filas sin el atributo a predecir y en \"<i>y</i>\" el atributo quitado.</p>"
   ]
  },
  {
   "cell_type": "code",
   "execution_count": 3,
   "metadata": {},
   "outputs": [
    {
     "name": "stdout",
     "output_type": "stream",
     "text": [
      "  Gender    Age    Height    Weight    family_overweight    FAVC    FCVC    NCP    CAEC    SMOKE    CH2O    SCC    FAF    TUE    CALC    MTRANS\n",
      "--------  -----  --------  --------  -------------------  ------  ------  -----  ------  -------  ------  -----  -----  -----  ------  --------\n",
      "       0     21      1.62      64                      1       0       2      3       1        0       2      0      0      1       0         2\n",
      "       0     21      1.52      56                      1       0       3      3       1        1       3      1      3      0       1         2\n",
      "       1     23      1.8       77                      1       0       2      3       1        0       2      0      2      1       2         2\n",
      "       1     27      1.8       87                      0       0       3      3       1        0       2      0      2      0       2         4\n",
      "       1     22      1.78      89.8                    0       0       2      1       1        0       2      0      0      0       1         2\n",
      "  NObesity\n",
      "----------\n",
      "         0\n",
      "         0\n",
      "         0\n",
      "         1\n",
      "         2\n"
     ]
    }
   ],
   "source": [
    "predict = \"NObesity\"\n",
    "\n",
    "x = np.array(data.drop([predict], 1))\n",
    "y = np.array(data[predict])\n",
    "\n",
    "headersList = [\"Gender\",\"Age\",\"Height\",\"Weight\",\"family_overweight\",\"FAVC\",\"FCVC\",\"NCP\",\"CAEC\",\"SMOKE\",\"CH2O\",\"SCC\",\"FAF\",\"TUE\",\"CALC\",\"MTRANS\"]\n",
    "print(tabulate([x[i] for i in range(5)], headers=headersList))\n",
    "print(tabulate([str(y[i]) for i in range(5)], headers=[\"NObesity\"]))"
   ]
  },
  {
   "cell_type": "markdown",
   "metadata": {},
   "source": [
    "<p>Dividimos \"<i>x</i>\" y \"<i>y</i>\" en 4 diferentes arrays, en las variables \"<i>train</i>\" tomara una seccion de \"<i>x</i>\" y \"<i>y</i>\" y en las variables \"<i>test</i>\" se haran las pruebas para determinan la exactitud al realizar las predicciones.</p>\n",
    "<p>\"<i>Test_size = 0.1</i>\" hace referencia a que se tomara solo el 10% para realizar las pruebas.</p>  "
   ]
  },
  {
   "cell_type": "code",
   "execution_count": 4,
   "metadata": {},
   "outputs": [],
   "source": [
    "x_train, x_test, y_train, y_test = sklearn.model_selection.train_test_split(x, y, test_size = 0.1)"
   ]
  },
  {
   "cell_type": "markdown",
   "metadata": {},
   "source": [
    "<p>Se crea un objeto tipo <i>LinearRegression</i>.</p>\n",
    "<p>La funcion <i>fit</i> se encarga de buscar la mejor (<i>Fit Line</i>) linea que intercepte la media del conjunto de todos atributos del <i>Data Set</i>.</p>\n",
    "<p>La funcion <i>score</i> nos dira la <i>exactitud</i> que tendra el modelo de regresion en dar una prediccion correcta.</p>\n"
   ]
  },
  {
   "cell_type": "code",
   "execution_count": 5,
   "metadata": {},
   "outputs": [
    {
     "name": "stdout",
     "output_type": "stream",
     "text": [
      "  Gender        Age    Height     Weight    family_overweight       FAVC        FCVC        NCP       CAEC       SMOKE        CH2O         SCC         FAF         TUE       CALC     MTRANS\n",
      "--------  ---------  --------  ---------  -------------------  ---------  ----------  ---------  ---------  ----------  ----------  ----------  ----------  ----------  ---------  ---------\n",
      "0.080251  0.0194153  -7.57191  0.0767323             0.324308  0.0724826  0.00331877  0.0345691  -0.159023  -0.0888679  -0.0155607  -0.0890352  -0.0821514  -0.0141946  -0.064006  0.0625274\n",
      "\n",
      "Intercepción: 7.672801724039922\n",
      "\n",
      "Exactitud: 0.9580227381751701\n"
     ]
    }
   ],
   "source": [
    "linear = linear_model.LinearRegression()\n",
    "linear.fit(x_train, y_train)\n",
    "acc = linear.score(x_test, y_test)\n",
    "\n",
    "print(tabulate([linear.coef_], headers=headersList))\n",
    "print(\"\\nIntercepción: {}\".format(linear.intercept_))\n",
    "print(\"\\nExactitud: {}\".format(acc))\n"
   ]
  },
  {
   "cell_type": "markdown",
   "metadata": {},
   "source": [
    "<p>La funcion <i>predict</i> nos arroja la prediccion del modelo para cada fila de datos, siendo cada fila los atributos de cada persona.</p>"
   ]
  },
  {
   "cell_type": "code",
   "execution_count": 6,
   "metadata": {
    "tags": []
   },
   "outputs": [
    {
     "name": "stdout",
     "output_type": "stream",
     "text": [
      "  Gender      Age    Height    Weight    family_overweight    FAVC     FCVC      NCP    CAEC    SMOKE     CH2O    SCC       FAF       TUE    CALC    MTRANS    NObesity(Prediction)    NObesity(Real)\n",
      "--------  -------  --------  --------  -------------------  ------  -------  -------  ------  -------  -------  -----  --------  --------  ------  --------  ----------------------  ----------------\n",
      "       1  26.9478   1.64781   99.5922                    1       1  2.93516  1.84586       1        0  1            0  1.08989   0.715993       0         2                       4                 4\n",
      "       1  17.0008   1.82208   58.443                     1       1  2.55957  3.04796       1        0  2            0  2.01165   0.588994       0         0                      -1                -1\n",
      "       0  27.1482   1.66045   49.5583                    1       1  2.00415  3.44346       2        0  2.02076      0  1.07872   1.26729        0         2                       0                -1\n",
      "       1  36.6739   1.7921   101.286                     1       1  2.22228  1.57875       1        0  2.7916       0  2.35209   0.317846       1         0                       3                 3\n",
      "       1  24.3474   1.78919   89.3936                    1       1  1.5216   2.17497       1        0  2            0  0         0.632467       1         2                       2                 2\n",
      "       1  21        1.72      72                         1       1  3        3             3        0  3            1  3         0              1         0                       0                 0\n",
      "       1  45        1.7       86                         0       1  3        3             2        0  1            0  0         0              0         0                       2                 2\n",
      "       0  26        1.62495  111.005                     1       1  3        3             1        0  2.70432      0  0         0.322666       1         2                       5                 5\n",
      "       1  24.4088   1.77955  118.74                      1       1  2.7363   2.9929        1        0  2.04556      0  0.854957  0.428452       1         2                       4                 4\n",
      "       1  23.8072   1.72918   82.5272                    1       1  2.7428   2.93761       1        0  1.99467      0  1         0.023564       1         2                       2                 2\n",
      "       0  19        1.77988   80.0919                    1       1  1.07853  1.21161       1        0  2.56806      0  3         0.817983       0         2                       1                 1\n",
      "       1  20.0684   1.65713  105.58                      1       1  2.72412  1.43796       1        0  1.59042      0  0.029603  1.12212        0         2                       4                 4\n",
      "       1  23        1.7       69                         0       1  3        1             2        0  1            0  2         1              1         2                       0                 0\n",
      "       0  33        1.55      55                         1       1  3        1             1        0  3            0  2         1              1         2                       1                 0\n",
      "       1  24.1453   1.82559  120.86                      1       1  2.40342  3             1        0  2.49061      0  2         0.707768       1         2                       4                 4\n",
      "       1  23.3196   1.84629  121.248                     1       1  3        2.6954        1        0  2.62882      0  0.975384  0              1         2                       4                 4\n",
      "       1  22.1858   1.78455   89.8367                    1       1  1.97994  1.59946       1        0  2            0  0.17048   0.819475       1         2                       2                 2\n",
      "       1  18.0688   1.78779   52                         1       1  3        3             1        0  2            0  0.854337  1              1         2                      -1                -1\n",
      "       0  21.6959   1.75548  133.871                     1       1  3        3             1        0  1.95929      0  1.43315   0.911335       1         2                       5                 5\n",
      "       0  19.2691   1.58092   44.7539                    0       0  3        2.97536       2        0  1.24682      1  0.979701  0              1         2                      -1                -1\n",
      "       1  26.7741   1.75594  112.288                     1       1  1.42829  3             1        0  2.11773      0  0.485322  0.696948       1         0                       4                 4\n",
      "       1  25.6667   1.79858  117.933                     1       1  2.03704  3             1        0  2.43699      0  1.01625   0.020044       1         2                       4                 4\n",
      "       0  23        1.63      82                         1       1  2        1             1        0  2            0  0         0              0         2                       2                 3\n",
      "       0  32.5931   1.7219    72.7489                    1       1  2        3             1        0  1            0  0         1.33923        1         0                       1                 1\n",
      "       1  24.7515   1.73534   83.3377                    1       1  2.60733  3             1        0  2            0  0.451009  0.630866       1         2                       2                 2\n",
      "       1  21        1.8       75                         1       1  3        3             2        0  1            0  2         0              1         2                       0                 0\n",
      "       0  24.2848   1.65073  113.774                     1       1  3        3             1        0  2.75137      0  0.324913  0.516764       1         2                       5                 5\n",
      "       0  21.1982   1.74384   78.8804                    1       1  2.51058  1             1        0  2            0  2.11968   0              1         2                       1                 1\n",
      "       1  24.1087   1.7       80.7614                    1       1  2        3             1        0  2.8794       0  0         0.322405       1         2                       2                 2\n",
      "       1  19.2411   1.85681   88.6336                    1       1  2.04707  3.8291        1        0  1.64102      0  1.55482   0.248218       1         2                       1                 1\n",
      "       1  21        1.75      75                         1       1  3        3             1        0  2            0  0         1              1         2                       1                 0\n",
      "       1  21.8082   1.65      80                         1       1  2        3             1        0  2            0  0.826609  2              0         2                       2                 2\n",
      "       1  21        1.85      83                         1       1  2        1             2        0  3            0  1         0              0         2                       1                 0\n",
      "       1  22.2779   1.94741  116.893                     1       1  2        3             1        0  3            0  0.975187  1              1         2                       3                 3\n",
      "       0  18.827    1.7       50                         0       1  1        3.24058       1        0  1            0  2         1              1         2                      -1                -1\n",
      "       0  19.0129   1.74206  133.78                      1       1  3        3             1        0  2.70196      0  1.46591   0.813235       1         2                       5                 5\n",
      "       1  19.6938   1.8       85                         1       1  2.18872  3             1        0  2.72136      0  1.52897   1              1         2                       1                 1\n",
      "       1  27.9688   1.67377   89.995                     1       1  1.96107  3             1        0  2.65233      0  0.56931   0.319008       1         0                       3                 3\n",
      "       0  26        1.64342  111.94                      1       1  3        3             1        0  2.72228      0  0         0.091711       1         2                       5                 5\n",
      "       0  22.8464   1.75744  133.365                     1       1  3        3             1        0  2.84837      0  1.20606   0.766668       1         2                       5                 5\n",
      "       1  19.0896   1.70016   99.2047                    1       1  2        2.11983       1        0  2            0  0         1.88254        0         2                       3                 3\n",
      "       1  25.5425   1.76322  115.108                     1       1  2.21965  3             1        0  2.16541      0  1.31505   0.688985       1         2                       4                 4\n",
      "       1  24.2849   1.77635   82.329                     1       1  1.98991  3.0549        1        0  2.08097      0  1.10754   0.939726       0         2                       1                 1\n",
      "       0  18.6035   1.68172   90.6719                    1       1  1.52443  3             1        0  1.38383      0  0.130417  1              1         2                       3                 3\n",
      "       1  19.8959   1.80733   85.0738                    1       1  2.80151  3             1        0  2.73478      0  2.20788   0.143675       1         2                       1                 1\n",
      "       1  22.8147   1.71629   75.6884                    1       1  2        3             1        0  2            0  0.092344  1.4665         1         2                       1                 1\n",
      "       0  33.6902   1.68184   77.4265                    1       1  3        2.67972       1        0  1.99974      0  1.74735   0.681773       0         0                       2                 2\n",
      "       1  21.8112   1.71266   51.5986                    1       1  3        3.15615       2        0  1.2538       0  0.544784  0.256382       0         2                      -1                -1\n",
      "       1  25        1.78      98                         1       0  2        3             1        0  3            0  3         2              0         2                       2                 3\n",
      "       0  22.6762   1.62094   82.2832                    1       1  1.96706  1             1        0  2.54865      0  0.249264  1.51673        1         2                       2                 3\n",
      "       0  21        1.6       61                         0       1  2        3             1        0  1            0  1         1              1         2                       1                 0\n",
      "       0  19.409    1.67055   49.8042                    0       1  2.7942   3.40936       1        0  1.54302      0  2         1              1         2                      -1                -1\n",
      "       1  26.7345   1.8162   119.623                     1       1  2.24704  3             1        0  2.71841      0  0.763595  0              1         2                       4                 4\n",
      "       0  21.0094   1.60681   67.7739                    1       1  2        3.15631       0        0  3            0  1.17959   0.086868       1         2                       2                 1\n",
      "       0  20.3941   1.74771  128.148                     1       1  3        3             1        0  2.2326       0  0.554323  0.836151       1         2                       5                 5\n",
      "       1  21.0111   1.85632  118.184                     1       1  2        3             1        0  3            0  0.788585  1.22003        1         2                       3                 3\n",
      "       1  19.7412   1.81678   86.5228                    1       1  2        3             1        0  2.17739      0  0.336814  0.004813       1         2                       1                 1\n",
      "       1  23.2467   1.65297   93.3103                    1       1  1.36898  3             1        0  1.95315      0  0.104707  0.22183        0         0                       3                 3\n",
      "       0  19.736    1.69996   49.983                     0       1  1.20486  3.53104       1        0  1.13466      0  2         1              1         2                      -1                -1\n",
      "       1  25.509    1.77219  114.098                     1       1  2.19331  3             1        0  2.08998      0  1.36099   0.857438       1         2                       4                 4\n",
      "       0  22.6676   1.71894   75.9515                    1       1  2        3             2        0  2            0  0         2              1         2                       1                 1\n",
      "       1  18        1.78391  109.208                     1       1  2        1.86784       1        0  2.4384       0  1         0.802305       0         2                       3                 3\n",
      "       0  21.0206   1.65      88.1294                    1       1  2.87015  1.00138       1        0  3            0  1.32256   1              0         2                       3                 3\n",
      "       0  21.7007   1.78956  137.768                     1       1  3        3             1        0  2.83266      0  1.50578   0.923005       1         2                       5                 5\n",
      "       1  27        1.64      78                         1       1  2        1             1        0  2            0  0         0              2         0                       2                 2\n",
      "       0  21        1.52      42                         0       1  3        1             2        0  1            0  0         0              1         2                       0                -1\n",
      "       1  18        1.76      68                         0       0  2        4             2        0  2            0  1         1              1         2                       0                 0\n",
      "       1  33.0093   1.74119   84.7733                    1       1  2        3             1        0  2.03595      0  1.21074   0              0         0                       2                 2\n",
      "       0  43.7261   1.59232   77.001                     1       1  2        3             1        0  2.80692      0  0         0              1         0                       3                 3\n",
      "       0  17        1.56      51                         0       1  3        3             1        0  1            0  0         2              0         2                       0                 0\n",
      "       0  25.722    1.62847  107.219                     1       1  3        3             1        0  2.48707      0  0.067329  0.455823       1         2                       4                 5\n",
      "       1  18        1.85      60                         1       1  3        4             1        0  2            1  2         0              1         0                      -1                -1\n",
      "       0  26        1.6227   111.216                     1       1  3        3             1        0  2.7072       0  0         0.167272       1         2                       5                 5\n",
      "       0  21.1402   1.71313  133.736                     1       1  3        3             1        0  1.41136      0  1.56462   0.910683       1         2                       6                 5\n",
      "       1  23        1.75      75                         0       1  2        3             1        0  2            0  1         0              2         2                       1                 0\n",
      "       1  26.7585   1.80179   86.9812                    0       1  2.65296  2.48819       1        0  2            0  2         0.096614       0         0                       1                 1\n",
      "       0  24.3202   1.57792   65.2932                    1       0  2.03414  2.74141       1        0  1.99638      0  1.27655   1.01945        0         2                       1                 2\n",
      "       0  17        1.58      50                         0       1  1        4             2        0  2            0  1         2              1         2                       0                 0\n",
      "       0  19.7257   1.74653  129.364                     1       1  3        3             1        0  2.25071      0  0.64235   0.685129       1         2                       5                 5\n",
      "       0  16.6131   1.77793   44.762                     0       1  2.91188  3.0984        1        0  2.1964       0  2.32815   1.55011        1         2                      -2                -1\n"
     ]
    }
   ],
   "source": [
    "predictions = linear.predict(x_test)\n",
    "\n",
    "headersList = [\"Gender\",\"Age\",\"Height\",\"Weight\",\"family_overweight\",\"FAVC\",\"FCVC\",\"NCP\",\"CAEC\",\"SMOKE\",\"CH2O\",\"SCC\",\"FAF\",\"TUE\",\"CALC\",\"MTRANS\",\"NObesity(Prediction)\",\"NObesity(Real)\"]\n",
    "tableDatas = []\n",
    "aux_xtest = []\n",
    "\n",
    "for i in range(80):\n",
    "    aux_xtest.append(list(x_test[i]))\n",
    "    aux_xtest[i].append(round(predictions[i]))\n",
    "    aux_xtest[i].append(y_test[i])\n",
    "    tableDatas.append(aux_xtest[i])\n",
    "\n",
    "print(tabulate([tableDatas[i] for i in range(80)], headers=headersList))"
   ]
  },
  {
   "cell_type": "markdown",
   "metadata": {},
   "source": [
    "<p>Y para terminar relizamos la prediccion con los atributos del integrante: <i>Luis Daniel</i>.</p>"
   ]
  },
  {
   "cell_type": "code",
   "execution_count": 7,
   "metadata": {},
   "outputs": [
    {
     "name": "stdout",
     "output_type": "stream",
     "text": [
      "  Gender    Age    Height    Weight    family_overweight    FAVC    FCVC    NCP    CAEC    SMOKE    CH2O    SCC    FAF    TUE    CALC    MTRANS    NObesity(Prediction)\n",
      "--------  -----  --------  --------  -------------------  ------  ------  -----  ------  -------  ------  -----  -----  -----  ------  --------  ----------------------\n",
      "       1     22      1.72        66                    0       2       2      3       2        0     2.5      1      2      5       2         0                       0\n"
     ]
    }
   ],
   "source": [
    "#miData = [Gender, Age, Height, Weight, family_overweight, FAVC, FCVC, NCP, CAEC, SMOKE, CH2O, SCC, FAF, TUE, CALC, MTRANS]\n",
    "miData = [[1, 22, 1.72, 66, 0, 2, 2, 3, 2, 0, 2.5, 1, 2, 5, 2, 0]]\n",
    "prediction = linear.predict(miData)\n",
    "\n",
    "miData = miData[0]\n",
    "miData.append(round(prediction[0]))\n",
    "\n",
    "headersList = [\"Gender\",\"Age\",\"Height\",\"Weight\",\"family_overweight\",\"FAVC\",\"FCVC\",\"NCP\",\"CAEC\",\"SMOKE\",\"CH2O\",\"SCC\",\"FAF\",\"TUE\",\"CALC\",\"MTRANS\",\"NObesity(Prediction)\"]\n",
    "\n",
    "print(tabulate([miData], headers=headersList))"
   ]
  },
  {
   "cell_type": "markdown",
   "metadata": {},
   "source": [
    "<h2>Referencias:</h2>\n",
    "<p>Tutoriales (Teach with Tim):</p>\n",
    "<ul>\n",
    "    <li>https://www.youtube.com/watch?v=45ryDIPHdGg</li>\n",
    "    <li>https://www.youtube.com/watch?v=1BYu65vLKdA</li>\n",
    "</ul>\n",
    "<p>Data set:</p>\n",
    "<ul>\n",
    "    <li>https://archive.ics.uci.edu/ml/datasets/Estimation+of+obesity+levels+based+on+eating+habits+and+physical+condition+</li>\n",
    "</ul>"
   ]
  }
 ],
 "metadata": {
  "kernelspec": {
   "display_name": "Python 3",
   "language": "python",
   "name": "python3"
  },
  "language_info": {
   "codemirror_mode": {
    "name": "ipython",
    "version": 3
   },
   "file_extension": ".py",
   "mimetype": "text/x-python",
   "name": "python",
   "nbconvert_exporter": "python",
   "pygments_lexer": "ipython3",
   "version": "3.8.8"
  }
 },
 "nbformat": 4,
 "nbformat_minor": 2
}
