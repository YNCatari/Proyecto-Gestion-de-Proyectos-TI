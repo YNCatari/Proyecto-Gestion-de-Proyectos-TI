{
 "cells": [
  {
   "cell_type": "code",
   "execution_count": 1,
   "id": "22457da3",
   "metadata": {},
   "outputs": [
    {
     "name": "stdout",
     "output_type": "stream",
     "text": [
      "    family  father  mother  midparentHeight  children  childNum  gender  \\\n",
      "0        1  199.39  170.18         191.5922         4         1    male   \n",
      "1        1  199.39  170.18         191.5922         4         2  female   \n",
      "2        1  199.39  170.18         191.5922         4         3  female   \n",
      "3        1  199.39  170.18         191.5922         4         4  female   \n",
      "4        2  191.77  168.91         187.0964         4         1    male   \n",
      "..     ...     ...     ...              ...       ...       ...     ...   \n",
      "929    203  157.48  167.64         169.2656         3         1    male   \n",
      "930    203  157.48  167.64         169.2656         3         2  female   \n",
      "931    203  157.48  167.64         169.2656         3         3  female   \n",
      "932    204  158.75  160.02         165.7858         2         1    male   \n",
      "933    204  158.75  160.02         165.7858         2         2  female   \n",
      "\n",
      "     childHeight  \n",
      "0        185.928  \n",
      "1        175.768  \n",
      "2        175.260  \n",
      "3        175.260  \n",
      "4        186.690  \n",
      "..           ...  \n",
      "929      162.560  \n",
      "930      157.480  \n",
      "931      154.940  \n",
      "932      168.910  \n",
      "933      144.780  \n",
      "\n",
      "[934 rows x 8 columns]\n"
     ]
    }
   ],
   "source": [
    "import csv\n",
    "import requests # pip install requests for easy http request for CSV data\n",
    "import pandas as pd\n",
    "import numpy as np\n",
    "\n",
    "import io\n",
    "\n",
    "url = \"https://raw.githubusercontent.com/data-8/materials-fa17/master/lec/galton.csv\"\n",
    "\n",
    "s = requests.get(url).content\n",
    "df = pd.read_csv(io.StringIO(s.decode('utf-8')))\n",
    "\n",
    "# Convirtiendo las estaturas, de pulgadas a centímetros\n",
    "\n",
    "inch_to_cm = 2.54\n",
    "df['mother'] *= inch_to_cm\n",
    "#df['father'] = df['father'] * inch_to_cm\n",
    "\n",
    "df['father'] *= inch_to_cm\n",
    "df['childHeight'] *= inch_to_cm\n",
    "df['midparentHeight'] *= inch_to_cm\n",
    "print(df)"
   ]
  },
  {
   "cell_type": "code",
   "execution_count": 2,
   "id": "47844758",
   "metadata": {},
   "outputs": [
    {
     "name": "stdout",
     "output_type": "stream",
     "text": [
      "    family  father  mother  midparentHeight  children  childNum  gender  \\\n",
      "0        1  199.39  170.18         191.5922         4         1    male   \n",
      "1        1  199.39  170.18         191.5922         4         2  female   \n",
      "2        1  199.39  170.18         191.5922         4         3  female   \n",
      "3        1  199.39  170.18         191.5922         4         4  female   \n",
      "4        2  191.77  168.91         187.0964         4         1    male   \n",
      "..     ...     ...     ...              ...       ...       ...     ...   \n",
      "929    203  157.48  167.64         169.2656         3         1    male   \n",
      "930    203  157.48  167.64         169.2656         3         2  female   \n",
      "931    203  157.48  167.64         169.2656         3         3  female   \n",
      "932    204  158.75  160.02         165.7858         2         1    male   \n",
      "933    204  158.75  160.02         165.7858         2         2  female   \n",
      "\n",
      "     childHeight  \n",
      "0        185.928  \n",
      "1        175.768  \n",
      "2        175.260  \n",
      "3        175.260  \n",
      "4        186.690  \n",
      "..           ...  \n",
      "929      162.560  \n",
      "930      157.480  \n",
      "931      154.940  \n",
      "932      168.910  \n",
      "933      144.780  \n",
      "\n",
      "[934 rows x 8 columns]\n"
     ]
    }
   ],
   "source": [
    "#1\n",
    "print(df)"
   ]
  },
  {
   "cell_type": "code",
   "execution_count": 3,
   "id": "282d8740",
   "metadata": {},
   "outputs": [
    {
     "name": "stdout",
     "output_type": "stream",
     "text": [
      "family              object\n",
      "father             float64\n",
      "mother             float64\n",
      "midparentHeight    float64\n",
      "children             int64\n",
      "childNum             int64\n",
      "gender              object\n",
      "childHeight        float64\n",
      "dtype: object\n"
     ]
    }
   ],
   "source": [
    "#2\n",
    "print(df.dtypes)\n"
   ]
  },
  {
   "cell_type": "code",
   "execution_count": 4,
   "id": "4fc2d647",
   "metadata": {},
   "outputs": [
    {
     "data": {
      "image/png": "[encoded data removed]",
      "text/plain": [
       "<Figure size 432x288 with 1 Axes>"
      ]
     },
     "metadata": {
      "needs_background": "light"
     },
     "output_type": "display_data"
    },
    {
     "data": {
      "image/png": "[encoded data removed]",
      "text/plain": [
       "<Figure size 432x288 with 1 Axes>"
      ]
     },
     "metadata": {
      "needs_background": "light"
     },
     "output_type": "display_data"
    },
    {
     "data": {
      "image/png": "[encoded data removed]",
      "text/plain": [
       "<Figure size 432x288 with 1 Axes>"
      ]
     },
     "metadata": {
      "needs_background": "light"
     },
     "output_type": "display_data"
    }
   ],
   "source": [
    "#3\n",
    "import matplotlib\n",
    "import matplotlib.pyplot as plt\n",
    " \n",
    "plt.hist(df['mother'])\n",
    "plt.show()\n",
    "\n",
    "plt.hist(df['father'])\n",
    "plt.show()\n",
    "\n",
    "plt.hist(df['childHeight'])\n",
    "plt.show()\n"
   ]
  },
  {
   "cell_type": "code",
   "execution_count": 5,
   "id": "24c0f350",
   "metadata": {},
   "outputs": [
    {
     "data": {
      "image/png": "[encoded data removed]",
      "text/plain": [
       "<Figure size 432x288 with 1 Axes>"
      ]
     },
     "metadata": {
      "needs_background": "light"
     },
     "output_type": "display_data"
    },
    {
     "data": {
      "image/png": "[encoded data removed]",
      "text/plain": [
       "<Figure size 432x288 with 1 Axes>"
      ]
     },
     "metadata": {
      "needs_background": "light"
     },
     "output_type": "display_data"
    },
    {
     "data": {
      "image/png": "[encoded data removed]",
      "text/plain": [
       "<Figure size 432x288 with 1 Axes>"
      ]
     },
     "metadata": {
      "needs_background": "light"
     },
     "output_type": "display_data"
    }
   ],
   "source": [
    "#4\n",
    "plt.scatter(df['father'], df['childHeight'])\n",
    "plt.show()\n",
    "\n",
    "plt.scatter(df['mother'], df['childHeight'])\n",
    "plt.show()\n",
    "\n",
    "plt.scatter(df['midparentHeight'], df['childHeight'])\n",
    "plt.show()\n"
   ]
  },
  {
   "cell_type": "code",
   "execution_count": 6,
   "id": "d5252b8e",
   "metadata": {},
   "outputs": [
    {
     "name": "stdout",
     "output_type": "stream",
     "text": [
      "min  (father) = 157.480000\n",
      "max  (father) = 199.390000\n",
      "mean (father) = 175.760657\n",
      "\n",
      "min  (mother) = 147.320000\n",
      "max  (mother) = 179.070000\n",
      "mean (mother) = 162.786805\n",
      "\n",
      "min  (childHeight) = 142.240000\n",
      "max  (childHeight) = 200.660000\n",
      "mean (childHeight) = 169.534666\n",
      "\n"
     ]
    }
   ],
   "source": [
    "#5\n",
    "for col in ['father', 'mother', 'childHeight']:\n",
    "  print(\"min  (%s) = %f\" % (col, df[col].min()))\n",
    "  print(\"max  (%s) = %f\" % (col, df[col].max()))\n",
    "  print(\"mean (%s) = %f\\n\" % (col, df[col].mean()))"
   ]
  },
  {
   "cell_type": "code",
   "execution_count": 7,
   "id": "26ca137a",
   "metadata": {},
   "outputs": [
    {
     "data": {
      "text/html": [
       "<div>\n",
       "<style scoped>\n",
       "    .dataframe tbody tr th:only-of-type {\n",
       "        vertical-align: middle;\n",
       "    }\n",
       "\n",
       "    .dataframe tbody tr th {\n",
       "        vertical-align: top;\n",
       "    }\n",
       "\n",
       "    .dataframe thead th {\n",
       "        text-align: right;\n",
       "    }\n",
       "</style>\n",
       "<table border=\"1\" class=\"dataframe\">\n",
       "  <thead>\n",
       "    <tr style=\"text-align: right;\">\n",
       "      <th></th>\n",
       "      <th>family</th>\n",
       "      <th>father</th>\n",
       "      <th>mother</th>\n",
       "      <th>midparentHeight</th>\n",
       "      <th>children</th>\n",
       "      <th>childNum</th>\n",
       "      <th>gender</th>\n",
       "      <th>childHeight</th>\n",
       "    </tr>\n",
       "  </thead>\n",
       "  <tbody>\n",
       "    <tr>\n",
       "      <th>1</th>\n",
       "      <td>1</td>\n",
       "      <td>199.39</td>\n",
       "      <td>170.18</td>\n",
       "      <td>191.5922</td>\n",
       "      <td>4</td>\n",
       "      <td>2</td>\n",
       "      <td>female</td>\n",
       "      <td>175.768</td>\n",
       "    </tr>\n",
       "    <tr>\n",
       "      <th>2</th>\n",
       "      <td>1</td>\n",
       "      <td>199.39</td>\n",
       "      <td>170.18</td>\n",
       "      <td>191.5922</td>\n",
       "      <td>4</td>\n",
       "      <td>3</td>\n",
       "      <td>female</td>\n",
       "      <td>175.260</td>\n",
       "    </tr>\n",
       "    <tr>\n",
       "      <th>3</th>\n",
       "      <td>1</td>\n",
       "      <td>199.39</td>\n",
       "      <td>170.18</td>\n",
       "      <td>191.5922</td>\n",
       "      <td>4</td>\n",
       "      <td>4</td>\n",
       "      <td>female</td>\n",
       "      <td>175.260</td>\n",
       "    </tr>\n",
       "    <tr>\n",
       "      <th>6</th>\n",
       "      <td>2</td>\n",
       "      <td>191.77</td>\n",
       "      <td>168.91</td>\n",
       "      <td>187.0964</td>\n",
       "      <td>4</td>\n",
       "      <td>3</td>\n",
       "      <td>female</td>\n",
       "      <td>166.370</td>\n",
       "    </tr>\n",
       "    <tr>\n",
       "      <th>7</th>\n",
       "      <td>2</td>\n",
       "      <td>191.77</td>\n",
       "      <td>168.91</td>\n",
       "      <td>187.0964</td>\n",
       "      <td>4</td>\n",
       "      <td>4</td>\n",
       "      <td>female</td>\n",
       "      <td>166.370</td>\n",
       "    </tr>\n",
       "    <tr>\n",
       "      <th>...</th>\n",
       "      <td>...</td>\n",
       "      <td>...</td>\n",
       "      <td>...</td>\n",
       "      <td>...</td>\n",
       "      <td>...</td>\n",
       "      <td>...</td>\n",
       "      <td>...</td>\n",
       "      <td>...</td>\n",
       "    </tr>\n",
       "    <tr>\n",
       "      <th>927</th>\n",
       "      <td>202</td>\n",
       "      <td>160.02</td>\n",
       "      <td>161.29</td>\n",
       "      <td>167.1066</td>\n",
       "      <td>2</td>\n",
       "      <td>1</td>\n",
       "      <td>female</td>\n",
       "      <td>173.990</td>\n",
       "    </tr>\n",
       "    <tr>\n",
       "      <th>928</th>\n",
       "      <td>202</td>\n",
       "      <td>160.02</td>\n",
       "      <td>161.29</td>\n",
       "      <td>167.1066</td>\n",
       "      <td>2</td>\n",
       "      <td>2</td>\n",
       "      <td>female</td>\n",
       "      <td>161.290</td>\n",
       "    </tr>\n",
       "    <tr>\n",
       "      <th>930</th>\n",
       "      <td>203</td>\n",
       "      <td>157.48</td>\n",
       "      <td>167.64</td>\n",
       "      <td>169.2656</td>\n",
       "      <td>3</td>\n",
       "      <td>2</td>\n",
       "      <td>female</td>\n",
       "      <td>157.480</td>\n",
       "    </tr>\n",
       "    <tr>\n",
       "      <th>931</th>\n",
       "      <td>203</td>\n",
       "      <td>157.48</td>\n",
       "      <td>167.64</td>\n",
       "      <td>169.2656</td>\n",
       "      <td>3</td>\n",
       "      <td>3</td>\n",
       "      <td>female</td>\n",
       "      <td>154.940</td>\n",
       "    </tr>\n",
       "    <tr>\n",
       "      <th>933</th>\n",
       "      <td>204</td>\n",
       "      <td>158.75</td>\n",
       "      <td>160.02</td>\n",
       "      <td>165.7858</td>\n",
       "      <td>2</td>\n",
       "      <td>2</td>\n",
       "      <td>female</td>\n",
       "      <td>144.780</td>\n",
       "    </tr>\n",
       "  </tbody>\n",
       "</table>\n",
       "<p>453 rows × 8 columns</p>\n",
       "</div>"
      ],
      "text/plain": [
       "    family  father  mother  midparentHeight  children  childNum  gender  \\\n",
       "1        1  199.39  170.18         191.5922         4         2  female   \n",
       "2        1  199.39  170.18         191.5922         4         3  female   \n",
       "3        1  199.39  170.18         191.5922         4         4  female   \n",
       "6        2  191.77  168.91         187.0964         4         3  female   \n",
       "7        2  191.77  168.91         187.0964         4         4  female   \n",
       "..     ...     ...     ...              ...       ...       ...     ...   \n",
       "927    202  160.02  161.29         167.1066         2         1  female   \n",
       "928    202  160.02  161.29         167.1066         2         2  female   \n",
       "930    203  157.48  167.64         169.2656         3         2  female   \n",
       "931    203  157.48  167.64         169.2656         3         3  female   \n",
       "933    204  158.75  160.02         165.7858         2         2  female   \n",
       "\n",
       "     childHeight  \n",
       "1        175.768  \n",
       "2        175.260  \n",
       "3        175.260  \n",
       "6        166.370  \n",
       "7        166.370  \n",
       "..           ...  \n",
       "927      173.990  \n",
       "928      161.290  \n",
       "930      157.480  \n",
       "931      154.940  \n",
       "933      144.780  \n",
       "\n",
       "[453 rows x 8 columns]"
      ]
     },
     "execution_count": 7,
     "metadata": {},
     "output_type": "execute_result"
    }
   ],
   "source": [
    "#df = df[df['gender'] == 'male']\n",
    "#df\n",
    "\n",
    "df = df[df['gender'] == 'female']\n",
    "df"
   ]
  },
  {
   "cell_type": "code",
   "execution_count": 8,
   "id": "29a40b8f",
   "metadata": {},
   "outputs": [
    {
     "name": "stdout",
     "output_type": "stream",
     "text": [
      "Number of Rows:  453\n",
      "x1 shape:  (453,)\n",
      "X1 shape:  (453, 1)\n",
      "y shape:  (453,)\n"
     ]
    }
   ],
   "source": [
    "x1 = df['mother']\n",
    "\n",
    "X1 = df[['mother']]\n",
    "y  = pd.Series(df['childHeight'])\n",
    "\n",
    "print(\"Number of Rows: \", len(df))\n",
    "print(\"x1 shape: \", x1.shape)\n",
    "print(\"X1 shape: \", X1.shape)\n",
    "\n",
    "print(\"y shape: \", y.shape)\n"
   ]
  },
  {
   "cell_type": "code",
   "execution_count": 9,
   "id": "c2b1f5ab",
   "metadata": {},
   "outputs": [
    {
     "name": "stdout",
     "output_type": "stream",
     "text": [
      "Coefficient: \n",
      " [0.3182446]\n",
      "Intercept: \n",
      " 110.96998122979052\n"
     ]
    }
   ],
   "source": [
    "from sklearn.linear_model import LinearRegression\n",
    "\n",
    "model = LinearRegression(fit_intercept=True)\n",
    "\n",
    "model.fit(X1, y) # X1 is row/col fmt, y is vector\n",
    "\n",
    "print('Coefficient: \\n', model.coef_)\n",
    "print('Intercept: \\n', model.intercept_)\n",
    "\n",
    "# y = a + bx"
   ]
  },
  {
   "cell_type": "code",
   "execution_count": 10,
   "id": "37a1fe9a",
   "metadata": {},
   "outputs": [
    {
     "name": "stdout",
     "output_type": "stream",
     "text": [
      "[161.88911678]\n"
     ]
    }
   ],
   "source": [
    "ypred = model.predict([[160]])\n",
    "print(ypred)\n",
    "\n",
    "#[0.4465226]\n",
    "#Intercept: \n",
    "# 97.4409558222927\n",
    "#y = a + bx\n",
    "#y = 97.4409558222927 + 0.4465226*(160)\n",
    "#print(y)"
   ]
  },
  {
   "cell_type": "code",
   "execution_count": 11,
   "id": "1567a7fd",
   "metadata": {},
   "outputs": [
    {
     "data": {
      "image/png": "[encoded data removed]",
      "text/plain": [
       "<Figure size 720x576 with 3 Axes>"
      ]
     },
     "metadata": {
      "needs_background": "light"
     },
     "output_type": "display_data"
    }
   ],
   "source": [
    "xpred = np.linspace(x1.min(), x1.max()) \n",
    "Xpred = xpred[:, np.newaxis] \n",
    "\n",
    "ypred = model.predict(Xpred)\n",
    "\n",
    "import matplotlib\n",
    "import matplotlib.pyplot as plt\n",
    " \n",
    "plt.figure(1, (10,8)) \n",
    " \n",
    "# Histograma de la altura de los padres\n",
    "plt.subplot(2,2,1)\n",
    "plt.hist(x1)\n",
    "plt.axis([x1.min(),x1.max(),0,160])\n",
    " \n",
    "# Scatter plot with line-fit\n",
    "plt.subplot(2,2,3)\n",
    "plt.scatter(x1,y)\n",
    "plt.plot(Xpred,ypred, color=\"dimgrey\")\n",
    "plt.axis([x1.min()-5, x1.max()+5, y.min()-5, y.max()+5])\n",
    "plt.xlabel(\"Altura de los padres - cm\")\n",
    "plt.ylabel(\"Altura de los hijos - cm\")\n",
    " \n",
    "# Histograma de las estaturas de los hijos\n",
    "plt.subplot(2,2,2)\n",
    "plt.hist(y,orientation='vertical')\n",
    " \n",
    "plt.show()"
   ]
  },
  {
   "cell_type": "code",
   "execution_count": 12,
   "id": "a6c5bdfa",
   "metadata": {},
   "outputs": [
    {
     "name": "stdout",
     "output_type": "stream",
     "text": [
      "162.8240927152318\n",
      "142.24\n",
      "179.07\n"
     ]
    }
   ],
   "source": [
    "print(y.mean())\n",
    "print(y.min())\n",
    "print(y.max())"
   ]
  },
  {
   "cell_type": "code",
   "execution_count": null,
   "id": "079a389f",
   "metadata": {},
   "outputs": [],
   "source": []
  }
 ],
 "metadata": {
  "kernelspec": {
   "display_name": "Python 3",
   "language": "python",
   "name": "python3"
  },
  "language_info": {
   "codemirror_mode": {
    "name": "ipython",
    "version": 3
   },
   "file_extension": ".py",
   "mimetype": "text/x-python",
   "name": "python",
   "nbconvert_exporter": "python",
   "pygments_lexer": "ipython3",
   "version": "3.8.8"
  }
 },
 "nbformat": 4,
 "nbformat_minor": 5
}
